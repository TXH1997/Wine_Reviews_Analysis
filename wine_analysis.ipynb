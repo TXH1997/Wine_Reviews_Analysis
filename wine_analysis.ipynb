{
 "cells": [
  {
   "cell_type": "markdown",
   "id": "documented-slope",
   "metadata": {},
   "source": [
    "## 使用pandas读取\"Wine Reviews\"的数据"
   ]
  },
  {
   "cell_type": "code",
   "execution_count": 1,
   "id": "streaming-characterization",
   "metadata": {},
   "outputs": [],
   "source": [
    "import pandas as pds\n",
    "data = pds.read_csv('./Wine Reviews/winemag-data-130k-v2.csv')"
   ]
  },
  {
   "cell_type": "markdown",
   "id": "tamil-deficit",
   "metadata": {},
   "source": [
    "## 标称属性country的聚会频数"
   ]
  },
  {
   "cell_type": "code",
   "execution_count": 2,
   "id": "lightweight-grant",
   "metadata": {},
   "outputs": [
    {
     "data": {
      "text/plain": [
       "US                        54504\n",
       "France                    22093\n",
       "Italy                     19540\n",
       "Spain                      6645\n",
       "Portugal                   5691\n",
       "Chile                      4472\n",
       "Argentina                  3800\n",
       "Austria                    3345\n",
       "Australia                  2329\n",
       "Germany                    2165\n",
       "New Zealand                1419\n",
       "South Africa               1401\n",
       "Israel                      505\n",
       "Greece                      466\n",
       "Canada                      257\n",
       "Hungary                     146\n",
       "Bulgaria                    141\n",
       "Romania                     120\n",
       "Uruguay                     109\n",
       "Turkey                       90\n",
       "Slovenia                     87\n",
       "Georgia                      86\n",
       "England                      74\n",
       "Croatia                      73\n",
       "Mexico                       70\n",
       "Moldova                      59\n",
       "Brazil                       52\n",
       "Lebanon                      35\n",
       "Morocco                      28\n",
       "Peru                         16\n",
       "Ukraine                      14\n",
       "Macedonia                    12\n",
       "Czech Republic               12\n",
       "Serbia                       12\n",
       "Cyprus                       11\n",
       "India                         9\n",
       "Switzerland                   7\n",
       "Luxembourg                    6\n",
       "Armenia                       2\n",
       "Bosnia and Herzegovina        2\n",
       "China                         1\n",
       "Slovakia                      1\n",
       "Egypt                         1\n",
       "Name: country, dtype: int64"
      ]
     },
     "execution_count": 2,
     "metadata": {},
     "output_type": "execute_result"
    }
   ],
   "source": [
    "data['country'].value_counts()"
   ]
  },
  {
   "cell_type": "markdown",
   "id": "backed-macintosh",
   "metadata": {},
   "source": [
    "## 标称属性description的聚会频数"
   ]
  },
  {
   "cell_type": "code",
   "execution_count": 3,
   "id": "compatible-flashing",
   "metadata": {},
   "outputs": [
    {
     "data": {
      "text/plain": [
       "Gravenstein apple, honeysuckle and jasmine aromas show on the relatively boisterous nose of this bottling from a large vineyard on Highway 46 east of Paso Robles. There is compellingly grippy texture to the sip, with ripe flavors of pear and honeydew melon. A salty acidity takes it to the next level.    3\n",
       "Stalky aromas suggest hay and green herbs, with raspberry in the backdrop. It's hot and short in terms of mouthfeel, with herbal flavors leading the way and berry fruit running behind. Dry red fruit and herbal notes dominate the finish.                                                                     3\n",
       "Ripe plum, game, truffle, leather and menthol are some of the aromas you'll find on this earthy wine. The tightly wound palate offers dried black cherry, chopped sage, mint and roasted coffee bean alongside raspy tannins that leave a mouth-drying finish.                                                   3\n",
       "Cigar box, café au lait, and dried tobacco aromas are followed by coffee and cherry flavors, with barrel spices lingering on the finish. The wood gets a bit out front but it still delivers enjoyment.                                                                                                          3\n",
       "Seductively tart in lemon pith, cranberry and pomegranate, this refreshing, light-bodied quaff is infinitely enjoyable, both on its own or at the table. It continues to expand on the palate into an increasing array of fresh flavors, finishing in cherry and orange.                                         3\n",
       "                                                                                                                                                                                                                                                                                                                ..\n",
       "This is a rich, broad-shouldered Pinot Noir, woodsy and oaky with a firm and fierce grip on the palate. It leans more toward earth and smoke than exuberant fruit. Textured in soft undertones of silk, it also offers plenty of fresh herb, a component to take advantage of in pairing.                        1\n",
       "This opens with aromas of mature black-skinned fruit, sun-baked soil and dark spice. The palate shows dried cherry, blackberry extract and a hint of anise alongside firm tannins. Drink over the next few years before the remaining fruit richness dries out.                                                  1\n",
       "Vincenzo Toffoli's Extra Dry Prosecco delivers a playful touch of sweetness that would pair with salty foods or savory appetizers. The sparkling wine boasts a clear, compact style with a touch of crisp acidity on the close.                                                                                  1\n",
       "A bit heavy, soft and dull, it has dried herb, green pea, oak and tropical fruit flavors, without much complexity. It's all right for drinking now.                                                                                                                                                              1\n",
       "The wine is young with tight tannins over the potential of juicy black-currant fruit. It has a firm edge, with dark chocolate and spice as well as the fruitiness. Drink this wine from 2019.                                                                                                                    1\n",
       "Name: description, Length: 119955, dtype: int64"
      ]
     },
     "execution_count": 3,
     "metadata": {},
     "output_type": "execute_result"
    }
   ],
   "source": [
    "data['description'].value_counts()"
   ]
  },
  {
   "cell_type": "markdown",
   "id": "leading-currency",
   "metadata": {},
   "source": [
    "## 标称属性desgination的聚会频数"
   ]
  },
  {
   "cell_type": "code",
   "execution_count": 4,
   "id": "recognized-inside",
   "metadata": {},
   "outputs": [
    {
     "data": {
      "text/plain": [
       "Reserve                             2009\n",
       "Estate                              1322\n",
       "Reserva                             1259\n",
       "Riserva                              698\n",
       "Estate Grown                         621\n",
       "                                    ... \n",
       "Les Morais                             1\n",
       "The Sheriff of Buena Vista             1\n",
       "Syn                                    1\n",
       "Medley Alegria Vineyards               1\n",
       "Wachenheimer Goldbächel P.C. Dry       1\n",
       "Name: designation, Length: 37979, dtype: int64"
      ]
     },
     "execution_count": 4,
     "metadata": {},
     "output_type": "execute_result"
    }
   ],
   "source": [
    "data['designation'].value_counts()"
   ]
  },
  {
   "cell_type": "markdown",
   "id": "bearing-dependence",
   "metadata": {},
   "source": [
    "## 标称属性province的聚会频数"
   ]
  },
  {
   "cell_type": "code",
   "execution_count": 5,
   "id": "partial-tokyo",
   "metadata": {},
   "outputs": [
    {
     "data": {
      "text/plain": [
       "California             36247\n",
       "Washington              8639\n",
       "Bordeaux                5941\n",
       "Tuscany                 5897\n",
       "Oregon                  5373\n",
       "                       ...  \n",
       "Breede River Valley        1\n",
       "Muscat of Patras           1\n",
       "Lesbos                     1\n",
       "Neuchâtel                  1\n",
       "Urla-Thrace                1\n",
       "Name: province, Length: 425, dtype: int64"
      ]
     },
     "execution_count": 5,
     "metadata": {},
     "output_type": "execute_result"
    }
   ],
   "source": [
    "data['province'].value_counts()"
   ]
  },
  {
   "cell_type": "markdown",
   "id": "behavioral-invalid",
   "metadata": {},
   "source": [
    "## 标称属性region_1的聚会频数"
   ]
  },
  {
   "cell_type": "code",
   "execution_count": 6,
   "id": "bound-hamburg",
   "metadata": {},
   "outputs": [
    {
     "data": {
      "text/plain": [
       "Napa Valley             4480\n",
       "Columbia Valley (WA)    4124\n",
       "Russian River Valley    3091\n",
       "California              2629\n",
       "Paso Robles             2350\n",
       "                        ... \n",
       "Coteaux du Lyonnais        1\n",
       "McDowell Valley            1\n",
       "Henty                      1\n",
       "Hawaii                     1\n",
       "Clairette de Die           1\n",
       "Name: region_1, Length: 1229, dtype: int64"
      ]
     },
     "execution_count": 6,
     "metadata": {},
     "output_type": "execute_result"
    }
   ],
   "source": [
    "data['region_1'].value_counts()"
   ]
  },
  {
   "cell_type": "markdown",
   "id": "advisory-negative",
   "metadata": {},
   "source": [
    "## 标称属性region_2的聚会频数"
   ]
  },
  {
   "cell_type": "code",
   "execution_count": 7,
   "id": "reduced-despite",
   "metadata": {},
   "outputs": [
    {
     "data": {
      "text/plain": [
       "Central Coast        11065\n",
       "Sonoma                9028\n",
       "Columbia Valley       8103\n",
       "Napa                  6814\n",
       "Willamette Valley     3423\n",
       "California Other      2663\n",
       "Finger Lakes          1777\n",
       "Sierra Foothills      1462\n",
       "Napa-Sonoma           1169\n",
       "Central Valley        1062\n",
       "Southern Oregon        917\n",
       "Oregon Other           727\n",
       "Long Island            680\n",
       "North Coast            584\n",
       "Washington Other       534\n",
       "South Coast            272\n",
       "New York Other         231\n",
       "Name: region_2, dtype: int64"
      ]
     },
     "execution_count": 7,
     "metadata": {},
     "output_type": "execute_result"
    }
   ],
   "source": [
    "data['region_2'].value_counts()"
   ]
  },
  {
   "cell_type": "markdown",
   "id": "pointed-style",
   "metadata": {},
   "source": [
    "## 标称属性taster_name的聚会频数"
   ]
  },
  {
   "cell_type": "code",
   "execution_count": 8,
   "id": "amateur-amazon",
   "metadata": {},
   "outputs": [
    {
     "data": {
      "text/plain": [
       "Roger Voss            25514\n",
       "Michael Schachner     15134\n",
       "Kerin O’Keefe         10776\n",
       "Virginie Boone         9537\n",
       "Paul Gregutt           9532\n",
       "Matt Kettmann          6332\n",
       "Joe Czerwinski         5147\n",
       "Sean P. Sullivan       4966\n",
       "Anna Lee C. Iijima     4415\n",
       "Jim Gordon             4177\n",
       "Anne Krebiehl MW       3685\n",
       "Lauren Buzzeo          1835\n",
       "Susan Kostrzewa        1085\n",
       "Mike DeSimone           514\n",
       "Jeff Jenssen            491\n",
       "Alexander Peartree      415\n",
       "Carrie Dykes            139\n",
       "Fiona Adams              27\n",
       "Christina Pickard         6\n",
       "Name: taster_name, dtype: int64"
      ]
     },
     "execution_count": 8,
     "metadata": {},
     "output_type": "execute_result"
    }
   ],
   "source": [
    "data['taster_name'].value_counts()"
   ]
  },
  {
   "cell_type": "markdown",
   "id": "banned-praise",
   "metadata": {},
   "source": [
    "## 标称属性taster_twitter_handle的聚会频数"
   ]
  },
  {
   "cell_type": "code",
   "execution_count": 9,
   "id": "danish-florida",
   "metadata": {},
   "outputs": [
    {
     "data": {
      "text/plain": [
       "@vossroger          25514\n",
       "@wineschach         15134\n",
       "@kerinokeefe        10776\n",
       "@vboone              9537\n",
       "@paulgwine           9532\n",
       "@mattkettmann        6332\n",
       "@JoeCz               5147\n",
       "@wawinereport        4966\n",
       "@gordone_cellars     4177\n",
       "@AnneInVino          3685\n",
       "@laurbuzz            1835\n",
       "@suskostrzewa        1085\n",
       "@worldwineguys       1005\n",
       "@bkfiona               27\n",
       "@winewchristina         6\n",
       "Name: taster_twitter_handle, dtype: int64"
      ]
     },
     "execution_count": 9,
     "metadata": {},
     "output_type": "execute_result"
    }
   ],
   "source": [
    "data['taster_twitter_handle'].value_counts()"
   ]
  },
  {
   "cell_type": "markdown",
   "id": "packed-brazilian",
   "metadata": {},
   "source": [
    "## 标称属性title的聚会频数"
   ]
  },
  {
   "cell_type": "code",
   "execution_count": 10,
   "id": "broadband-observer",
   "metadata": {},
   "outputs": [
    {
     "data": {
      "text/plain": [
       "Gloria Ferrer NV Sonoma Brut Sparkling (Sonoma County)             11\n",
       "Korbel NV Brut Sparkling (California)                               9\n",
       "Segura Viudas NV Extra Dry Sparkling (Cava)                         8\n",
       "Segura Viudas NV Aria Estate Extra Dry Sparkling (Cava)             7\n",
       "Ruinart NV Brut Rosé  (Champagne)                                   7\n",
       "                                                                   ..\n",
       "Re Manfredi 2016 Rosato (Basilicata)                                1\n",
       "Joseph Drouhin 2010  Meursault                                      1\n",
       "Wolff 2014 Syrah (Edna Valley)                                      1\n",
       "San Simeon 2013 Estate Reserve Cabernet Sauvignon (Paso Robles)     1\n",
       "K&K; Vasilikon 2010 Xynisteri (Pafos)                               1\n",
       "Name: title, Length: 118840, dtype: int64"
      ]
     },
     "execution_count": 10,
     "metadata": {},
     "output_type": "execute_result"
    }
   ],
   "source": [
    "data['title'].value_counts()"
   ]
  },
  {
   "cell_type": "markdown",
   "id": "altered-delivery",
   "metadata": {},
   "source": [
    "## 标称属性variety的聚会频数"
   ]
  },
  {
   "cell_type": "code",
   "execution_count": 11,
   "id": "awful-hydrogen",
   "metadata": {},
   "outputs": [
    {
     "data": {
      "text/plain": [
       "Pinot Noir                  13272\n",
       "Chardonnay                  11753\n",
       "Cabernet Sauvignon           9472\n",
       "Red Blend                    8946\n",
       "Bordeaux-style Red Blend     6915\n",
       "                            ...  \n",
       "Merlot-Argaman                  1\n",
       "Pignolo                         1\n",
       "Tinto Velasco                   1\n",
       "Karalahna                       1\n",
       "Ryzlink Rýnský                  1\n",
       "Name: variety, Length: 707, dtype: int64"
      ]
     },
     "execution_count": 11,
     "metadata": {},
     "output_type": "execute_result"
    }
   ],
   "source": [
    "data['variety'].value_counts()"
   ]
  },
  {
   "cell_type": "markdown",
   "id": "champion-eclipse",
   "metadata": {},
   "source": [
    "## 标称属性winery的聚会频数"
   ]
  },
  {
   "cell_type": "code",
   "execution_count": 12,
   "id": "rising-matter",
   "metadata": {},
   "outputs": [
    {
     "data": {
      "text/plain": [
       "Wines & Winemakers    222\n",
       "Testarossa            218\n",
       "DFJ Vinhos            215\n",
       "Williams Selyem       211\n",
       "Louis Latour          199\n",
       "                     ... \n",
       "Veenwouden              1\n",
       "Villa Annaberta         1\n",
       "Futura 14               1\n",
       "Jigsaw                  1\n",
       "Château Pipeau          1\n",
       "Name: winery, Length: 16757, dtype: int64"
      ]
     },
     "execution_count": 12,
     "metadata": {},
     "output_type": "execute_result"
    }
   ],
   "source": [
    "data['winery'].value_counts()"
   ]
  },
  {
   "cell_type": "markdown",
   "id": "nutritional-customs",
   "metadata": {},
   "source": [
    "## 数值属性points和price的五数概括"
   ]
  },
  {
   "cell_type": "code",
   "execution_count": 13,
   "id": "ideal-divorce",
   "metadata": {},
   "outputs": [
    {
     "data": {
      "text/html": [
       "<div>\n",
       "<style scoped>\n",
       "    .dataframe tbody tr th:only-of-type {\n",
       "        vertical-align: middle;\n",
       "    }\n",
       "\n",
       "    .dataframe tbody tr th {\n",
       "        vertical-align: top;\n",
       "    }\n",
       "\n",
       "    .dataframe thead th {\n",
       "        text-align: right;\n",
       "    }\n",
       "</style>\n",
       "<table border=\"1\" class=\"dataframe\">\n",
       "  <thead>\n",
       "    <tr style=\"text-align: right;\">\n",
       "      <th></th>\n",
       "      <th>Unnamed: 0</th>\n",
       "      <th>points</th>\n",
       "      <th>price</th>\n",
       "    </tr>\n",
       "  </thead>\n",
       "  <tbody>\n",
       "    <tr>\n",
       "      <th>count</th>\n",
       "      <td>129971.000000</td>\n",
       "      <td>129971.000000</td>\n",
       "      <td>120975.000000</td>\n",
       "    </tr>\n",
       "    <tr>\n",
       "      <th>mean</th>\n",
       "      <td>64985.000000</td>\n",
       "      <td>88.447138</td>\n",
       "      <td>35.363389</td>\n",
       "    </tr>\n",
       "    <tr>\n",
       "      <th>std</th>\n",
       "      <td>37519.540256</td>\n",
       "      <td>3.039730</td>\n",
       "      <td>41.022218</td>\n",
       "    </tr>\n",
       "    <tr>\n",
       "      <th>min</th>\n",
       "      <td>0.000000</td>\n",
       "      <td>80.000000</td>\n",
       "      <td>4.000000</td>\n",
       "    </tr>\n",
       "    <tr>\n",
       "      <th>25%</th>\n",
       "      <td>32492.500000</td>\n",
       "      <td>86.000000</td>\n",
       "      <td>17.000000</td>\n",
       "    </tr>\n",
       "    <tr>\n",
       "      <th>50%</th>\n",
       "      <td>64985.000000</td>\n",
       "      <td>88.000000</td>\n",
       "      <td>25.000000</td>\n",
       "    </tr>\n",
       "    <tr>\n",
       "      <th>75%</th>\n",
       "      <td>97477.500000</td>\n",
       "      <td>91.000000</td>\n",
       "      <td>42.000000</td>\n",
       "    </tr>\n",
       "    <tr>\n",
       "      <th>max</th>\n",
       "      <td>129970.000000</td>\n",
       "      <td>100.000000</td>\n",
       "      <td>3300.000000</td>\n",
       "    </tr>\n",
       "  </tbody>\n",
       "</table>\n",
       "</div>"
      ],
      "text/plain": [
       "          Unnamed: 0         points          price\n",
       "count  129971.000000  129971.000000  120975.000000\n",
       "mean    64985.000000      88.447138      35.363389\n",
       "std     37519.540256       3.039730      41.022218\n",
       "min         0.000000      80.000000       4.000000\n",
       "25%     32492.500000      86.000000      17.000000\n",
       "50%     64985.000000      88.000000      25.000000\n",
       "75%     97477.500000      91.000000      42.000000\n",
       "max    129970.000000     100.000000    3300.000000"
      ]
     },
     "execution_count": 13,
     "metadata": {},
     "output_type": "execute_result"
    }
   ],
   "source": [
    "data.describe()"
   ]
  },
  {
   "cell_type": "markdown",
   "id": "adjusted-reviewer",
   "metadata": {},
   "source": [
    "## 数值属性points的缺失值个数"
   ]
  },
  {
   "cell_type": "code",
   "execution_count": 14,
   "id": "southern-arcade",
   "metadata": {},
   "outputs": [
    {
     "data": {
      "text/plain": [
       "0"
      ]
     },
     "execution_count": 14,
     "metadata": {},
     "output_type": "execute_result"
    }
   ],
   "source": [
    "data['points'].isnull().sum()"
   ]
  },
  {
   "cell_type": "markdown",
   "id": "alert-brighton",
   "metadata": {},
   "source": [
    "## 数值属性price的缺失值个数"
   ]
  },
  {
   "cell_type": "code",
   "execution_count": 15,
   "id": "skilled-holiday",
   "metadata": {},
   "outputs": [
    {
     "data": {
      "text/plain": [
       "8996"
      ]
     },
     "execution_count": 15,
     "metadata": {},
     "output_type": "execute_result"
    }
   ],
   "source": [
    "data['price'].isnull().sum()"
   ]
  },
  {
   "cell_type": "markdown",
   "id": "expected-bread",
   "metadata": {},
   "source": [
    "## 数值属性points的直方图表示"
   ]
  },
  {
   "cell_type": "code",
   "execution_count": 16,
   "id": "norwegian-search",
   "metadata": {},
   "outputs": [
    {
     "data": {
      "text/plain": [
       "array([[<AxesSubplot:title={'center':'points'}>]], dtype=object)"
      ]
     },
     "execution_count": 16,
     "metadata": {},
     "output_type": "execute_result"
    },
    {
     "data": {
      "image/png": "[encoded data removed]",
      "text/plain": [
       "<Figure size 432x288 with 1 Axes>"
      ]
     },
     "metadata": {
      "needs_background": "light"
     },
     "output_type": "display_data"
    }
   ],
   "source": [
    "data.hist(['points'])"
   ]
  },
  {
   "cell_type": "markdown",
   "id": "auburn-belly",
   "metadata": {},
   "source": [
    "## 数值属性points的盒图表示"
   ]
  },
  {
   "cell_type": "code",
   "execution_count": 17,
   "id": "lined-trade",
   "metadata": {},
   "outputs": [
    {
     "data": {
      "text/plain": [
       "<AxesSubplot:>"
      ]
     },
     "execution_count": 17,
     "metadata": {},
     "output_type": "execute_result"
    },
    {
     "data": {
      "image/png": "[encoded data removed]",
      "text/plain": [
       "<Figure size 432x288 with 1 Axes>"
      ]
     },
     "metadata": {
      "needs_background": "light"
     },
     "output_type": "display_data"
    }
   ],
   "source": [
    "data.boxplot(['points'])"
   ]
  },
  {
   "cell_type": "markdown",
   "id": "encouraging-ethnic",
   "metadata": {},
   "source": [
    "## 数值属性price的直方图表示"
   ]
  },
  {
   "cell_type": "code",
   "execution_count": 18,
   "id": "statistical-pressure",
   "metadata": {},
   "outputs": [
    {
     "data": {
      "text/plain": [
       "array([[<AxesSubplot:title={'center':'price'}>]], dtype=object)"
      ]
     },
     "execution_count": 18,
     "metadata": {},
     "output_type": "execute_result"
    },
    {
     "data": {
      "image/png": "[encoded data removed]",
      "text/plain": [
       "<Figure size 432x288 with 1 Axes>"
      ]
     },
     "metadata": {
      "needs_background": "light"
     },
     "output_type": "display_data"
    }
   ],
   "source": [
    "data.hist(['price'])"
   ]
  },
  {
   "cell_type": "markdown",
   "id": "nutritional-plain",
   "metadata": {},
   "source": [
    "## 数值属性price的盒图表示"
   ]
  },
  {
   "cell_type": "code",
   "execution_count": 19,
   "id": "external-shoot",
   "metadata": {},
   "outputs": [
    {
     "data": {
      "text/plain": [
       "<AxesSubplot:>"
      ]
     },
     "execution_count": 19,
     "metadata": {},
     "output_type": "execute_result"
    },
    {
     "data": {
      "image/png": "[encoded data removed]",
      "text/plain": [
       "<Figure size 432x288 with 1 Axes>"
      ]
     },
     "metadata": {
      "needs_background": "light"
     },
     "output_type": "display_data"
    }
   ],
   "source": [
    "data.boxplot(['price'])"
   ]
  },
  {
   "cell_type": "markdown",
   "id": "romantic-warren",
   "metadata": {},
   "source": [
    "## 剔除缺失值先后price的直方图对比"
   ]
  },
  {
   "cell_type": "code",
   "execution_count": 20,
   "id": "regular-elimination",
   "metadata": {},
   "outputs": [
    {
     "name": "stderr",
     "output_type": "stream",
     "text": [
      "c:\\miniconda3\\envs\\nbook\\lib\\site-packages\\pandas\\plotting\\_matplotlib\\tools.py:400: MatplotlibDeprecationWarning: \n",
      "The is_first_col function was deprecated in Matplotlib 3.4 and will be removed two minor releases later. Use ax.get_subplotspec().is_first_col() instead.\n",
      "  if ax.is_first_col():\n"
     ]
    },
    {
     "data": {
      "text/plain": [
       "array([[<AxesSubplot:title={'center':'original'}>,\n",
       "        <AxesSubplot:title={'center':'dropped'}>]], dtype=object)"
      ]
     },
     "execution_count": 20,
     "metadata": {},
     "output_type": "execute_result"
    },
    {
     "data": {
      "image/png": "[encoded data removed]",
      "text/plain": [
       "<Figure size 432x288 with 2 Axes>"
      ]
     },
     "metadata": {
      "needs_background": "light"
     },
     "output_type": "display_data"
    }
   ],
   "source": [
    "dropped_data = data.dropna(subset=['price'])\n",
    "cmp_dropped_price = pds.DataFrame({'original': data['price'], 'dropped': dropped_data['price']})\n",
    "cmp_dropped_price.hist()"
   ]
  },
  {
   "cell_type": "markdown",
   "id": "hydraulic-india",
   "metadata": {},
   "source": [
    "## 剔除缺失值先后price的盒图对比"
   ]
  },
  {
   "cell_type": "code",
   "execution_count": 21,
   "id": "minute-access",
   "metadata": {},
   "outputs": [
    {
     "data": {
      "text/plain": [
       "<AxesSubplot:>"
      ]
     },
     "execution_count": 21,
     "metadata": {},
     "output_type": "execute_result"
    },
    {
     "data": {
      "image/png": "[encoded data removed]",
      "text/plain": [
       "<Figure size 432x288 with 1 Axes>"
      ]
     },
     "metadata": {
      "needs_background": "light"
     },
     "output_type": "display_data"
    }
   ],
   "source": [
    "cmp_dropped_price.boxplot()"
   ]
  },
  {
   "cell_type": "markdown",
   "id": "meaning-edition",
   "metadata": {},
   "source": [
    "## 剔除缺失值先后price的五数概括对比"
   ]
  },
  {
   "cell_type": "code",
   "execution_count": 22,
   "id": "formed-latest",
   "metadata": {},
   "outputs": [
    {
     "data": {
      "text/html": [
       "<div>\n",
       "<style scoped>\n",
       "    .dataframe tbody tr th:only-of-type {\n",
       "        vertical-align: middle;\n",
       "    }\n",
       "\n",
       "    .dataframe tbody tr th {\n",
       "        vertical-align: top;\n",
       "    }\n",
       "\n",
       "    .dataframe thead th {\n",
       "        text-align: right;\n",
       "    }\n",
       "</style>\n",
       "<table border=\"1\" class=\"dataframe\">\n",
       "  <thead>\n",
       "    <tr style=\"text-align: right;\">\n",
       "      <th></th>\n",
       "      <th>original</th>\n",
       "      <th>dropped</th>\n",
       "    </tr>\n",
       "  </thead>\n",
       "  <tbody>\n",
       "    <tr>\n",
       "      <th>count</th>\n",
       "      <td>120975.000000</td>\n",
       "      <td>120975.000000</td>\n",
       "    </tr>\n",
       "    <tr>\n",
       "      <th>mean</th>\n",
       "      <td>35.363389</td>\n",
       "      <td>35.363389</td>\n",
       "    </tr>\n",
       "    <tr>\n",
       "      <th>std</th>\n",
       "      <td>41.022218</td>\n",
       "      <td>41.022218</td>\n",
       "    </tr>\n",
       "    <tr>\n",
       "      <th>min</th>\n",
       "      <td>4.000000</td>\n",
       "      <td>4.000000</td>\n",
       "    </tr>\n",
       "    <tr>\n",
       "      <th>25%</th>\n",
       "      <td>17.000000</td>\n",
       "      <td>17.000000</td>\n",
       "    </tr>\n",
       "    <tr>\n",
       "      <th>50%</th>\n",
       "      <td>25.000000</td>\n",
       "      <td>25.000000</td>\n",
       "    </tr>\n",
       "    <tr>\n",
       "      <th>75%</th>\n",
       "      <td>42.000000</td>\n",
       "      <td>42.000000</td>\n",
       "    </tr>\n",
       "    <tr>\n",
       "      <th>max</th>\n",
       "      <td>3300.000000</td>\n",
       "      <td>3300.000000</td>\n",
       "    </tr>\n",
       "  </tbody>\n",
       "</table>\n",
       "</div>"
      ],
      "text/plain": [
       "            original        dropped\n",
       "count  120975.000000  120975.000000\n",
       "mean       35.363389      35.363389\n",
       "std        41.022218      41.022218\n",
       "min         4.000000       4.000000\n",
       "25%        17.000000      17.000000\n",
       "50%        25.000000      25.000000\n",
       "75%        42.000000      42.000000\n",
       "max      3300.000000    3300.000000"
      ]
     },
     "execution_count": 22,
     "metadata": {},
     "output_type": "execute_result"
    }
   ],
   "source": [
    "cmp_dropped_price.describe()"
   ]
  },
  {
   "cell_type": "markdown",
   "id": "defensive-louis",
   "metadata": {},
   "source": [
    "## 以最高频率值填补缺失值，以及填补前后的直方图对比"
   ]
  },
  {
   "cell_type": "code",
   "execution_count": 23,
   "id": "infinite-designer",
   "metadata": {},
   "outputs": [
    {
     "name": "stderr",
     "output_type": "stream",
     "text": [
      "c:\\miniconda3\\envs\\nbook\\lib\\site-packages\\pandas\\plotting\\_matplotlib\\tools.py:400: MatplotlibDeprecationWarning: \n",
      "The is_first_col function was deprecated in Matplotlib 3.4 and will be removed two minor releases later. Use ax.get_subplotspec().is_first_col() instead.\n",
      "  if ax.is_first_col():\n"
     ]
    },
    {
     "data": {
      "text/plain": [
       "array([[<AxesSubplot:title={'center':'original'}>,\n",
       "        <AxesSubplot:title={'center':'fillna'}>]], dtype=object)"
      ]
     },
     "execution_count": 23,
     "metadata": {},
     "output_type": "execute_result"
    },
    {
     "data": {
      "image/png": "[encoded data removed]",
      "text/plain": [
       "<Figure size 432x288 with 2 Axes>"
      ]
     },
     "metadata": {
      "needs_background": "light"
     },
     "output_type": "display_data"
    }
   ],
   "source": [
    "most_freq = data['price'].value_counts().index[0]\n",
    "price_fillna_freq = data['price'].fillna(most_freq)\n",
    "cmp_fillna_freq_price = pds.DataFrame({'original': data['price'], 'fillna': price_fillna_freq})\n",
    "cmp_fillna_freq_price.hist()"
   ]
  },
  {
   "cell_type": "markdown",
   "id": "acoustic-pavilion",
   "metadata": {},
   "source": [
    "## 盒图对比"
   ]
  },
  {
   "cell_type": "code",
   "execution_count": 24,
   "id": "elementary-listing",
   "metadata": {},
   "outputs": [
    {
     "data": {
      "text/plain": [
       "<AxesSubplot:>"
      ]
     },
     "execution_count": 24,
     "metadata": {},
     "output_type": "execute_result"
    },
    {
     "data": {
      "image/png": "[encoded data removed]",
      "text/plain": [
       "<Figure size 432x288 with 1 Axes>"
      ]
     },
     "metadata": {
      "needs_background": "light"
     },
     "output_type": "display_data"
    }
   ],
   "source": [
    "cmp_fillna_freq_price.boxplot()"
   ]
  },
  {
   "cell_type": "markdown",
   "id": "arbitrary-increase",
   "metadata": {},
   "source": [
    "## 五数概括对比"
   ]
  },
  {
   "cell_type": "code",
   "execution_count": 25,
   "id": "operational-machine",
   "metadata": {},
   "outputs": [
    {
     "data": {
      "text/html": [
       "<div>\n",
       "<style scoped>\n",
       "    .dataframe tbody tr th:only-of-type {\n",
       "        vertical-align: middle;\n",
       "    }\n",
       "\n",
       "    .dataframe tbody tr th {\n",
       "        vertical-align: top;\n",
       "    }\n",
       "\n",
       "    .dataframe thead th {\n",
       "        text-align: right;\n",
       "    }\n",
       "</style>\n",
       "<table border=\"1\" class=\"dataframe\">\n",
       "  <thead>\n",
       "    <tr style=\"text-align: right;\">\n",
       "      <th></th>\n",
       "      <th>original</th>\n",
       "      <th>fillna</th>\n",
       "    </tr>\n",
       "  </thead>\n",
       "  <tbody>\n",
       "    <tr>\n",
       "      <th>count</th>\n",
       "      <td>120975.000000</td>\n",
       "      <td>129971.000000</td>\n",
       "    </tr>\n",
       "    <tr>\n",
       "      <th>mean</th>\n",
       "      <td>35.363389</td>\n",
       "      <td>34.300005</td>\n",
       "    </tr>\n",
       "    <tr>\n",
       "      <th>std</th>\n",
       "      <td>41.022218</td>\n",
       "      <td>39.768715</td>\n",
       "    </tr>\n",
       "    <tr>\n",
       "      <th>min</th>\n",
       "      <td>4.000000</td>\n",
       "      <td>4.000000</td>\n",
       "    </tr>\n",
       "    <tr>\n",
       "      <th>25%</th>\n",
       "      <td>17.000000</td>\n",
       "      <td>18.000000</td>\n",
       "    </tr>\n",
       "    <tr>\n",
       "      <th>50%</th>\n",
       "      <td>25.000000</td>\n",
       "      <td>25.000000</td>\n",
       "    </tr>\n",
       "    <tr>\n",
       "      <th>75%</th>\n",
       "      <td>42.000000</td>\n",
       "      <td>40.000000</td>\n",
       "    </tr>\n",
       "    <tr>\n",
       "      <th>max</th>\n",
       "      <td>3300.000000</td>\n",
       "      <td>3300.000000</td>\n",
       "    </tr>\n",
       "  </tbody>\n",
       "</table>\n",
       "</div>"
      ],
      "text/plain": [
       "            original         fillna\n",
       "count  120975.000000  129971.000000\n",
       "mean       35.363389      34.300005\n",
       "std        41.022218      39.768715\n",
       "min         4.000000       4.000000\n",
       "25%        17.000000      18.000000\n",
       "50%        25.000000      25.000000\n",
       "75%        42.000000      40.000000\n",
       "max      3300.000000    3300.000000"
      ]
     },
     "execution_count": 25,
     "metadata": {},
     "output_type": "execute_result"
    }
   ],
   "source": [
    "cmp_fillna_freq_price.describe()"
   ]
  },
  {
   "cell_type": "markdown",
   "id": "fifteen-washington",
   "metadata": {},
   "source": [
    "## 由于price不符合正态分布，无法使用皮尔逊相关系数通过属性的相关关系来填补缺失值"
   ]
  },
  {
   "cell_type": "code",
   "execution_count": 26,
   "id": "sealed-bowling",
   "metadata": {},
   "outputs": [
    {
     "data": {
      "text/plain": [
       "NormaltestResult(statistic=255714.24694937712, pvalue=0.0)"
      ]
     },
     "execution_count": 26,
     "metadata": {},
     "output_type": "execute_result"
    }
   ],
   "source": [
    "import scipy.stats as ss\n",
    "dropped = data.dropna(subset=['points', 'price'])\n",
    "\n",
    "ss.normaltest(dropped['price'])"
   ]
  },
  {
   "cell_type": "code",
   "execution_count": 27,
   "id": "palestinian-jonathan",
   "metadata": {},
   "outputs": [
    {
     "data": {
      "text/plain": [
       "0.4161667418606219"
      ]
     },
     "execution_count": 27,
     "metadata": {},
     "output_type": "execute_result"
    }
   ],
   "source": [
    "dropped['price'].corr(dropped['points'], method='pearson')"
   ]
  },
  {
   "cell_type": "markdown",
   "id": "rising-personal",
   "metadata": {},
   "source": [
    "## 计算数据对象相似性的函数，为了减少计算量而只考虑缺失值与附近20个对象的相似性"
   ]
  },
  {
   "cell_type": "code",
   "execution_count": 28,
   "id": "backed-wildlife",
   "metadata": {},
   "outputs": [],
   "source": [
    "def sim(e1, e2):\n",
    "    score = 0\n",
    "    score += int(e1['country'] == e2['country'])\n",
    "    score += int(e1['description'] == e2['description'])\n",
    "    score += int(e1['designation'] == e2['designation'])\n",
    "    score += abs(e1['points'] - e2['points'])\n",
    "    score += int(e1['province'] == e2['province'])\n",
    "    score += int(e1['region_1'] == e2['region_1'])\n",
    "    score += int(e1['region_2'] == e2['region_2'])\n",
    "    score += int(e1['taster_twitter_handle'] == e2['taster_twitter_handle'])\n",
    "    score += int(e1['taster_name'] == e2['taster_name'])\n",
    "    score += int(e1['title'] == e2['title'])\n",
    "    score += int(e1['variety'] == e2['variety'])\n",
    "    score += int(e1['winery'] == e2['winery'])\n",
    "    return score\n",
    "    \n",
    "def get_fill_value(e0, pos):\n",
    "    head = pos - 10 if pos - 10 >= 0 else 0\n",
    "    tail = pos + 10 if pos + 10 <= len(data) else len(data)\n",
    "    scores = data.loc[range(head, tail)].apply(lambda e: sim(e0, e), axis=1)\n",
    "    sorted_scores = pds.DataFrame({'score': scores}).sort_values(['score'], ascending=False)\n",
    "    for i, pos in enumerate(sorted_scores.index.tolist()):\n",
    "        if i == 0 or data['price'].isnull().values[pos]:\n",
    "            continue\n",
    "        else:\n",
    "            return data['price'].loc[pos]"
   ]
  },
  {
   "cell_type": "markdown",
   "id": "fossil-salvation",
   "metadata": {},
   "source": [
    "## 使用最相似的数据对象对应的值来填补缺失值"
   ]
  },
  {
   "cell_type": "code",
   "execution_count": 29,
   "id": "wireless-anniversary",
   "metadata": {},
   "outputs": [],
   "source": [
    "most_sim = pds.DataFrame({'price': data['price']})\n",
    "col_num = data['price'][data['price'].isnull().values==True].index\n",
    "for i in col_num:\n",
    "    most_sim['price'].loc[i] = get_fill_value(data.loc[i], i)"
   ]
  },
  {
   "cell_type": "markdown",
   "id": "residential-remark",
   "metadata": {},
   "source": [
    "## 填补后的直方图对比"
   ]
  },
  {
   "cell_type": "code",
   "execution_count": 30,
   "id": "empirical-finance",
   "metadata": {},
   "outputs": [
    {
     "name": "stderr",
     "output_type": "stream",
     "text": [
      "c:\\miniconda3\\envs\\nbook\\lib\\site-packages\\pandas\\plotting\\_matplotlib\\tools.py:400: MatplotlibDeprecationWarning: \n",
      "The is_first_col function was deprecated in Matplotlib 3.4 and will be removed two minor releases later. Use ax.get_subplotspec().is_first_col() instead.\n",
      "  if ax.is_first_col():\n"
     ]
    },
    {
     "data": {
      "text/plain": [
       "array([[<AxesSubplot:title={'center':'original'}>,\n",
       "        <AxesSubplot:title={'center':'fillna'}>]], dtype=object)"
      ]
     },
     "execution_count": 30,
     "metadata": {},
     "output_type": "execute_result"
    },
    {
     "data": {
      "image/png": "[encoded data removed]",
      "text/plain": [
       "<Figure size 432x288 with 2 Axes>"
      ]
     },
     "metadata": {
      "needs_background": "light"
     },
     "output_type": "display_data"
    }
   ],
   "source": [
    "cmp_fillna_sim_price = pds.DataFrame({'original': data['price'], 'fillna': most_sim['price']})\n",
    "cmp_fillna_sim_price.hist()"
   ]
  },
  {
   "cell_type": "markdown",
   "id": "organizational-houston",
   "metadata": {},
   "source": [
    "## 填补后的盒图对比"
   ]
  },
  {
   "cell_type": "code",
   "execution_count": 31,
   "id": "dietary-awareness",
   "metadata": {},
   "outputs": [
    {
     "data": {
      "text/plain": [
       "<AxesSubplot:>"
      ]
     },
     "execution_count": 31,
     "metadata": {},
     "output_type": "execute_result"
    },
    {
     "data": {
      "image/png": "[encoded data removed]",
      "text/plain": [
       "<Figure size 432x288 with 1 Axes>"
      ]
     },
     "metadata": {
      "needs_background": "light"
     },
     "output_type": "display_data"
    }
   ],
   "source": [
    "cmp_fillna_sim_price.boxplot()"
   ]
  },
  {
   "cell_type": "markdown",
   "id": "sixth-upper",
   "metadata": {},
   "source": [
    "## 填补后的五数概括对比"
   ]
  },
  {
   "cell_type": "code",
   "execution_count": 32,
   "id": "proper-mandate",
   "metadata": {},
   "outputs": [
    {
     "data": {
      "text/html": [
       "<div>\n",
       "<style scoped>\n",
       "    .dataframe tbody tr th:only-of-type {\n",
       "        vertical-align: middle;\n",
       "    }\n",
       "\n",
       "    .dataframe tbody tr th {\n",
       "        vertical-align: top;\n",
       "    }\n",
       "\n",
       "    .dataframe thead th {\n",
       "        text-align: right;\n",
       "    }\n",
       "</style>\n",
       "<table border=\"1\" class=\"dataframe\">\n",
       "  <thead>\n",
       "    <tr style=\"text-align: right;\">\n",
       "      <th></th>\n",
       "      <th>original</th>\n",
       "      <th>fillna</th>\n",
       "    </tr>\n",
       "  </thead>\n",
       "  <tbody>\n",
       "    <tr>\n",
       "      <th>count</th>\n",
       "      <td>120975.000000</td>\n",
       "      <td>129865.000000</td>\n",
       "    </tr>\n",
       "    <tr>\n",
       "      <th>mean</th>\n",
       "      <td>35.363389</td>\n",
       "      <td>35.515066</td>\n",
       "    </tr>\n",
       "    <tr>\n",
       "      <th>std</th>\n",
       "      <td>41.022218</td>\n",
       "      <td>41.038353</td>\n",
       "    </tr>\n",
       "    <tr>\n",
       "      <th>min</th>\n",
       "      <td>4.000000</td>\n",
       "      <td>4.000000</td>\n",
       "    </tr>\n",
       "    <tr>\n",
       "      <th>25%</th>\n",
       "      <td>17.000000</td>\n",
       "      <td>17.000000</td>\n",
       "    </tr>\n",
       "    <tr>\n",
       "      <th>50%</th>\n",
       "      <td>25.000000</td>\n",
       "      <td>25.000000</td>\n",
       "    </tr>\n",
       "    <tr>\n",
       "      <th>75%</th>\n",
       "      <td>42.000000</td>\n",
       "      <td>42.000000</td>\n",
       "    </tr>\n",
       "    <tr>\n",
       "      <th>max</th>\n",
       "      <td>3300.000000</td>\n",
       "      <td>3300.000000</td>\n",
       "    </tr>\n",
       "  </tbody>\n",
       "</table>\n",
       "</div>"
      ],
      "text/plain": [
       "            original         fillna\n",
       "count  120975.000000  129865.000000\n",
       "mean       35.363389      35.515066\n",
       "std        41.022218      41.038353\n",
       "min         4.000000       4.000000\n",
       "25%        17.000000      17.000000\n",
       "50%        25.000000      25.000000\n",
       "75%        42.000000      42.000000\n",
       "max      3300.000000    3300.000000"
      ]
     },
     "execution_count": 32,
     "metadata": {},
     "output_type": "execute_result"
    }
   ],
   "source": [
    "cmp_fillna_sim_price.describe()"
   ]
  }
 ],
 "metadata": {
  "kernelspec": {
   "display_name": "Python 3",
   "language": "python",
   "name": "python3"
  },
  "language_info": {
   "codemirror_mode": {
    "name": "ipython",
    "version": 3
   },
   "file_extension": ".py",
   "mimetype": "text/x-python",
   "name": "python",
   "nbconvert_exporter": "python",
   "pygments_lexer": "ipython3",
   "version": "3.8.8"
  }
 },
 "nbformat": 4,
 "nbformat_minor": 5
}
