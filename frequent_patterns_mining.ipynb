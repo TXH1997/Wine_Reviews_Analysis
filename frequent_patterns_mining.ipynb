{
 "cells": [
  {
   "cell_type": "markdown",
   "id": "e371d10d",
   "metadata": {},
   "source": [
    "# 数据挖掘互评作业二: 频繁模式与关联规则挖掘"
   ]
  },
  {
   "cell_type": "markdown",
   "id": "78f6e893",
   "metadata": {},
   "source": [
    "## 一、读取数据集，并查看数据集的信息概要"
   ]
  },
  {
   "cell_type": "code",
   "execution_count": 1,
   "id": "80d1744e",
   "metadata": {},
   "outputs": [
    {
     "name": "stdout",
     "output_type": "stream",
     "text": [
      "<class 'pandas.core.frame.DataFrame'>\n",
      "RangeIndex: 129971 entries, 0 to 129970\n",
      "Data columns (total 14 columns):\n",
      " #   Column                 Non-Null Count   Dtype  \n",
      "---  ------                 --------------   -----  \n",
      " 0   id                     129971 non-null  int64  \n",
      " 1   country                129908 non-null  object \n",
      " 2   description            129971 non-null  object \n",
      " 3   designation            92506 non-null   object \n",
      " 4   points                 129971 non-null  int64  \n",
      " 5   price                  120975 non-null  float64\n",
      " 6   province               129908 non-null  object \n",
      " 7   region_1               108724 non-null  object \n",
      " 8   region_2               50511 non-null   object \n",
      " 9   taster_name            103727 non-null  object \n",
      " 10  taster_twitter_handle  98758 non-null   object \n",
      " 11  title                  129971 non-null  object \n",
      " 12  variety                129970 non-null  object \n",
      " 13  winery                 129971 non-null  object \n",
      "dtypes: float64(1), int64(2), object(11)\n",
      "memory usage: 13.9+ MB\n"
     ]
    }
   ],
   "source": [
    "import pandas as pds\n",
    "data = pds.read_csv('./Wine Reviews/winemag-data-130k-v2.csv')\n",
    "data.info()"
   ]
  },
  {
   "cell_type": "markdown",
   "id": "bb07cd61",
   "metadata": {},
   "source": [
    "## 二、根据数据集的信息筛选出进行频繁模式挖掘的列‘\n",
    "\n",
    "筛选依据为：\n",
    "* id 列不具有实际意义\n",
    "* description、title列完全不具有重复的数值\n",
    "* price 列为浮点数，region_1 和 winery 列数值重复度低\n",
    "* desgination、region_2和taster_twitter_handle 列包含太多的的缺失值\n",
    "\n",
    "所以最终筛选出来的列为: `country, points, province, taster_name, variety`"
   ]
  },
  {
   "cell_type": "code",
   "execution_count": 2,
   "id": "a62e2191",
   "metadata": {},
   "outputs": [
    {
     "name": "stdout",
     "output_type": "stream",
     "text": [
      "<class 'pandas.core.frame.DataFrame'>\n",
      "RangeIndex: 129971 entries, 0 to 129970\n",
      "Data columns (total 5 columns):\n",
      " #   Column       Non-Null Count   Dtype \n",
      "---  ------       --------------   ----- \n",
      " 0   country      129908 non-null  object\n",
      " 1   points       129971 non-null  int64 \n",
      " 2   province     129908 non-null  object\n",
      " 3   taster_name  103727 non-null  object\n",
      " 4   variety      129970 non-null  object\n",
      "dtypes: int64(1), object(4)\n",
      "memory usage: 5.0+ MB\n"
     ]
    }
   ],
   "source": [
    "# 仅取部分列进行频繁模式挖掘\n",
    "to_preserve = ['country', 'points', 'province', 'taster_name', 'variety']\n",
    "data_reduced = data[to_preserve].copy()\n",
    "data_reduced.info()"
   ]
  },
  {
   "cell_type": "markdown",
   "id": "45f5facc",
   "metadata": {},
   "source": [
    "## 三、对数据集进行处理，以便于进行关联规则挖掘\n",
    "\n",
    "具体处理如下：\n",
    "* 将数值属性转化为标称属性\n",
    "* 将 DataFrame 格式的数据转化为 List 格式，并删除缺失值\n",
    "* 使用预处理工具将数据编码成挖掘工具规定的形式"
   ]
  },
  {
   "cell_type": "code",
   "execution_count": 3,
   "id": "1e133531",
   "metadata": {},
   "outputs": [
    {
     "name": "stdout",
     "output_type": "stream",
     "text": [
      "<class 'pandas.core.frame.DataFrame'>\n",
      "RangeIndex: 129971 entries, 0 to 129970\n",
      "Data columns (total 5 columns):\n",
      " #   Column       Non-Null Count   Dtype \n",
      "---  ------       --------------   ----- \n",
      " 0   country      129908 non-null  object\n",
      " 1   points       129971 non-null  object\n",
      " 2   province     129908 non-null  object\n",
      " 3   taster_name  103727 non-null  object\n",
      " 4   variety      129970 non-null  object\n",
      "dtypes: object(5)\n",
      "memory usage: 5.0+ MB\n"
     ]
    }
   ],
   "source": [
    "# 将数值转化为字符串\n",
    "data_reduced['points'] = data_reduced['points'].map(str)\n",
    "data_reduced.info()"
   ]
  },
  {
   "cell_type": "code",
   "execution_count": 4,
   "id": "dd6afa79",
   "metadata": {},
   "outputs": [],
   "source": [
    "def row_to_list(row):\n",
    "    return row.dropna().tolist()\n",
    "\n",
    "data_reduced_list = data_reduced.apply(row_to_list, axis=1).tolist()"
   ]
  },
  {
   "cell_type": "code",
   "execution_count": 5,
   "id": "1ba722dd",
   "metadata": {},
   "outputs": [
    {
     "data": {
      "text/html": [
       "<div>\n",
       "<style scoped>\n",
       "    .dataframe tbody tr th:only-of-type {\n",
       "        vertical-align: middle;\n",
       "    }\n",
       "\n",
       "    .dataframe tbody tr th {\n",
       "        vertical-align: top;\n",
       "    }\n",
       "\n",
       "    .dataframe thead th {\n",
       "        text-align: right;\n",
       "    }\n",
       "</style>\n",
       "<table border=\"1\" class=\"dataframe\">\n",
       "  <thead>\n",
       "    <tr style=\"text-align: right;\">\n",
       "      <th></th>\n",
       "      <th>100</th>\n",
       "      <th>80</th>\n",
       "      <th>81</th>\n",
       "      <th>82</th>\n",
       "      <th>83</th>\n",
       "      <th>84</th>\n",
       "      <th>85</th>\n",
       "      <th>86</th>\n",
       "      <th>87</th>\n",
       "      <th>88</th>\n",
       "      <th>...</th>\n",
       "      <th>Zierfandler-Rotgipfler</th>\n",
       "      <th>Zinfandel</th>\n",
       "      <th>Zlahtina</th>\n",
       "      <th>Zweigelt</th>\n",
       "      <th>Çalkarası</th>\n",
       "      <th>Österreichischer Perlwein</th>\n",
       "      <th>Österreichischer Sekt</th>\n",
       "      <th>Štajerska</th>\n",
       "      <th>Žilavka</th>\n",
       "      <th>Župa</th>\n",
       "    </tr>\n",
       "  </thead>\n",
       "  <tbody>\n",
       "    <tr>\n",
       "      <th>0</th>\n",
       "      <td>False</td>\n",
       "      <td>False</td>\n",
       "      <td>False</td>\n",
       "      <td>False</td>\n",
       "      <td>False</td>\n",
       "      <td>False</td>\n",
       "      <td>False</td>\n",
       "      <td>False</td>\n",
       "      <td>True</td>\n",
       "      <td>False</td>\n",
       "      <td>...</td>\n",
       "      <td>False</td>\n",
       "      <td>False</td>\n",
       "      <td>False</td>\n",
       "      <td>False</td>\n",
       "      <td>False</td>\n",
       "      <td>False</td>\n",
       "      <td>False</td>\n",
       "      <td>False</td>\n",
       "      <td>False</td>\n",
       "      <td>False</td>\n",
       "    </tr>\n",
       "    <tr>\n",
       "      <th>1</th>\n",
       "      <td>False</td>\n",
       "      <td>False</td>\n",
       "      <td>False</td>\n",
       "      <td>False</td>\n",
       "      <td>False</td>\n",
       "      <td>False</td>\n",
       "      <td>False</td>\n",
       "      <td>False</td>\n",
       "      <td>True</td>\n",
       "      <td>False</td>\n",
       "      <td>...</td>\n",
       "      <td>False</td>\n",
       "      <td>False</td>\n",
       "      <td>False</td>\n",
       "      <td>False</td>\n",
       "      <td>False</td>\n",
       "      <td>False</td>\n",
       "      <td>False</td>\n",
       "      <td>False</td>\n",
       "      <td>False</td>\n",
       "      <td>False</td>\n",
       "    </tr>\n",
       "    <tr>\n",
       "      <th>2</th>\n",
       "      <td>False</td>\n",
       "      <td>False</td>\n",
       "      <td>False</td>\n",
       "      <td>False</td>\n",
       "      <td>False</td>\n",
       "      <td>False</td>\n",
       "      <td>False</td>\n",
       "      <td>False</td>\n",
       "      <td>True</td>\n",
       "      <td>False</td>\n",
       "      <td>...</td>\n",
       "      <td>False</td>\n",
       "      <td>False</td>\n",
       "      <td>False</td>\n",
       "      <td>False</td>\n",
       "      <td>False</td>\n",
       "      <td>False</td>\n",
       "      <td>False</td>\n",
       "      <td>False</td>\n",
       "      <td>False</td>\n",
       "      <td>False</td>\n",
       "    </tr>\n",
       "  </tbody>\n",
       "</table>\n",
       "<p>3 rows × 1184 columns</p>\n",
       "</div>"
      ],
      "text/plain": [
       "     100     80     81     82     83     84     85     86    87     88  ...  \\\n",
       "0  False  False  False  False  False  False  False  False  True  False  ...   \n",
       "1  False  False  False  False  False  False  False  False  True  False  ...   \n",
       "2  False  False  False  False  False  False  False  False  True  False  ...   \n",
       "\n",
       "   Zierfandler-Rotgipfler  Zinfandel  Zlahtina  Zweigelt  Çalkarası  \\\n",
       "0                   False      False     False     False      False   \n",
       "1                   False      False     False     False      False   \n",
       "2                   False      False     False     False      False   \n",
       "\n",
       "   Österreichischer Perlwein  Österreichischer Sekt  Štajerska  Žilavka   Župa  \n",
       "0                      False                  False      False    False  False  \n",
       "1                      False                  False      False    False  False  \n",
       "2                      False                  False      False    False  False  \n",
       "\n",
       "[3 rows x 1184 columns]"
      ]
     },
     "execution_count": 5,
     "metadata": {},
     "output_type": "execute_result"
    }
   ],
   "source": [
    "from mlxtend.preprocessing import TransactionEncoder\n",
    "\n",
    "te = TransactionEncoder()\n",
    "data_encoded = te.fit_transform(data_reduced_list)\n",
    "df_encoded = pds.DataFrame(data_encoded, columns=te.columns_)\n",
    "df_encoded.head(3)"
   ]
  },
  {
   "cell_type": "markdown",
   "id": "12b9b0d2",
   "metadata": {},
   "source": [
    "## 四、使用 mlxtend 工具包找出数据集中的频繁模式"
   ]
  },
  {
   "cell_type": "code",
   "execution_count": 6,
   "id": "6cae0e8e",
   "metadata": {},
   "outputs": [],
   "source": [
    "from mlxtend.frequent_patterns import apriori\n",
    "\n",
    "freq_itemsets = apriori(df_encoded, min_support=0.05, use_colnames=True)\n",
    "freq_itemsets.sort_values(by='support', ascending=False, inplace=True)"
   ]
  },
  {
   "cell_type": "code",
   "execution_count": 7,
   "id": "0b97f650",
   "metadata": {},
   "outputs": [
    {
     "name": "stdout",
     "output_type": "stream",
     "text": [
      "     support                          itemsets\n",
      "21  0.419355                              (US)\n",
      "10  0.278885                      (California)\n",
      "29  0.278885                  (California, US)\n",
      "19  0.196305                      (Roger Voss)\n",
      "12  0.169984                          (France)\n",
      "13  0.150341                           (Italy)\n",
      "32  0.143124              (France, Roger Voss)\n",
      "3   0.132391                              (88)\n",
      "2   0.130283                              (87)\n",
      "5   0.118565                              (90)\n",
      "15  0.116441               (Michael Schachner)\n",
      "17  0.102115                      (Pinot Noir)\n",
      "1   0.096945                              (86)\n",
      "4   0.094067                              (89)\n",
      "11  0.090428                      (Chardonnay)\n",
      "6   0.087396                              (91)\n",
      "14  0.082911                   (Kerin O’Keefe)\n",
      "33  0.082911            (Italy, Kerin O’Keefe)\n",
      "36  0.076055                  (US, Pinot Noir)\n",
      "7   0.073963                              (92)\n",
      "22  0.073378                  (Virginie Boone)\n",
      "37  0.073378              (Virginie Boone, US)\n",
      "40  0.073339  (Virginie Boone, California, US)\n",
      "16  0.073339                    (Paul Gregutt)\n",
      "30  0.073339      (Virginie Boone, California)\n",
      "0   0.073324                              (85)\n",
      "9   0.072878              (Cabernet Sauvignon)\n",
      "35  0.071578                (Paul Gregutt, US)\n",
      "18  0.068831                       (Red Blend)\n",
      "23  0.066469                      (Washington)\n",
      "38  0.066469                  (US, Washington)\n",
      "27  0.056282          (Cabernet Sauvignon, US)\n",
      "25  0.054158                          (88, US)\n",
      "8   0.053204        (Bordeaux-style Red Blend)\n",
      "28  0.053058          (California, Pinot Noir)\n",
      "39  0.053058      (California, Pinot Noir, US)\n",
      "31  0.052327                  (Chardonnay, US)\n",
      "26  0.051612                          (US, 90)\n",
      "20  0.051127                           (Spain)\n",
      "24  0.051027                          (US, 87)\n",
      "34  0.050588        (Michael Schachner, Spain)\n"
     ]
    }
   ],
   "source": [
    "print(freq_itemsets[freq_itemsets.itemsets.apply(lambda x: len(x)) >= 1])"
   ]
  },
  {
   "cell_type": "markdown",
   "id": "cd608b75",
   "metadata": {},
   "source": [
    "## 使用 mlxtend 工具包对发现的频繁模式进行关联规则挖掘"
   ]
  },
  {
   "cell_type": "code",
   "execution_count": 8,
   "id": "fb7bbf46",
   "metadata": {},
   "outputs": [],
   "source": [
    "from mlxtend.frequent_patterns import association_rules\n",
    "\n",
    "asso_rules = association_rules(freq_itemsets, metric='confidence', min_threshold=0.8)\n",
    "asso_rules.sort_values(by='lift', ascending=False, inplace=True)"
   ]
  },
  {
   "cell_type": "markdown",
   "id": "342f651f",
   "metadata": {},
   "source": [
    "关联规则挖掘的结果如下，其中第5、6列分别为支持度和置信度，第7、8、9列分别为Lift、Leverage和置信度，都是关联规则的评价指标。"
   ]
  },
  {
   "cell_type": "code",
   "execution_count": 9,
   "id": "d37a0d8a",
   "metadata": {},
   "outputs": [
    {
     "name": "stdout",
     "output_type": "stream",
     "text": [
      "                     antecedents          consequents  antecedent support  \\\n",
      "11                       (Spain)  (Michael Schachner)            0.051127   \n",
      "2                (Kerin O’Keefe)              (Italy)            0.082911   \n",
      "1                       (France)         (Roger Voss)            0.169984   \n",
      "5           (Virginie Boone, US)         (California)            0.073378   \n",
      "6               (Virginie Boone)     (California, US)            0.073378   \n",
      "7               (Virginie Boone)         (California)            0.073378   \n",
      "0                   (California)                 (US)            0.278885   \n",
      "3               (Virginie Boone)                 (US)            0.073378   \n",
      "4   (Virginie Boone, California)                 (US)            0.073339   \n",
      "9                   (Washington)                 (US)            0.066469   \n",
      "10      (California, Pinot Noir)                 (US)            0.053058   \n",
      "8                 (Paul Gregutt)                 (US)            0.073339   \n",
      "\n",
      "    consequent support   support  confidence      lift  leverage   conviction  \n",
      "11            0.116441  0.050588    0.989466  8.497546  0.044635    83.874959  \n",
      "2             0.150341  0.082911    1.000000  6.651535  0.070446          inf  \n",
      "1             0.196305  0.143124    0.841986  4.289166  0.109755     5.086229  \n",
      "5             0.278885  0.073339    0.999476  3.583824  0.052875  1375.454198  \n",
      "6             0.278885  0.073339    0.999476  3.583824  0.052875  1375.454198  \n",
      "7             0.278885  0.073339    0.999476  3.583824  0.052875  1375.454198  \n",
      "0             0.419355  0.278885    1.000000  2.384614  0.161933          inf  \n",
      "3             0.419355  0.073378    1.000000  2.384614  0.042607          inf  \n",
      "4             0.419355  0.073339    1.000000  2.384614  0.042584          inf  \n",
      "9             0.419355  0.066469    1.000000  2.384614  0.038595          inf  \n",
      "10            0.419355  0.053058    1.000000  2.384614  0.030808          inf  \n",
      "8             0.419355  0.071578    0.975976  2.327325  0.040822    24.169028  \n"
     ]
    }
   ],
   "source": [
    "print(asso_rules)"
   ]
  },
  {
   "cell_type": "markdown",
   "id": "88455637",
   "metadata": {},
   "source": [
    "上面展示的是置信度大于等于 0.8 的关联规则，且按照 Lift 值从大到小排序，其中全部都是葡萄酒出产的国家和地区的关联性，这也在意料之内，毕竟地区包含在国家之内，并且一个地区一般只在一个省份内，一个省份也只在一个国家内。"
   ]
  }
 ],
 "metadata": {
  "kernelspec": {
   "display_name": "Python 3",
   "language": "python",
   "name": "python3"
  },
  "language_info": {
   "codemirror_mode": {
    "name": "ipython",
    "version": 3
   },
   "file_extension": ".py",
   "mimetype": "text/x-python",
   "name": "python",
   "nbconvert_exporter": "python",
   "pygments_lexer": "ipython3",
   "version": "3.8.10"
  }
 },
 "nbformat": 4,
 "nbformat_minor": 5
}
